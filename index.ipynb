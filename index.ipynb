{
 "cells": [
  {
   "cell_type": "markdown",
   "metadata": {},
   "source": [
    "# Project: Analyzing Macbeth"
   ]
  },
  {
   "cell_type": "markdown",
   "metadata": {},
   "source": [
    "## Introduction\n",
    "For our first day and first data science project, we're going to do some rudimentry analysis of Shakespeare's classic play: Macbeth! You will get practice working with lists, condtionals and dictionaries, visualizing data, and thinking analytically about data."
   ]
  },
  {
   "cell_type": "markdown",
   "metadata": {},
   "source": [
    "## Objectives\n",
    "You will be able to:\n",
    "* Show mastery of the content covered in this section"
   ]
  },
  {
   "cell_type": "markdown",
   "metadata": {},
   "source": [
    "### Getting the Data\n",
    "Here we start by importing a python package and using it to pull the transcript of Macbeth from the project Gutenberg website. We also preview a few details about what is now stored in the variable macbeth; it's a string with 119,846 characters, the first 500 of which are printed below. "
   ]
  },
  {
   "cell_type": "code",
   "execution_count": 8,
   "metadata": {},
   "outputs": [
    {
     "name": "stdout",
     "output_type": "stream",
     "text": [
      "<class 'str'>\n",
      "119846\n",
      "﻿***The Project Gutenberg's Etext of Shakespeare's First Folio***\r\n",
      "********************The Tragedie of Macbeth*********************\r\n",
      "\r\n",
      "This is our 3rd edition of most of these plays.  See the index.\r\n",
      "\r\n",
      "\r\n",
      "Copyright laws are changing all over the world, be sure to check\r\n",
      "the copyright laws for your country before posting these files!!\r\n",
      "\r\n",
      "Please take a look at the important information in this header.\r\n",
      "We encourage you to keep this file on your own disk, keeping an\r\n",
      "electronic path open for the nex\n"
     ]
    }
   ],
   "source": [
    "import requests\n",
    "macbeth = requests.get('http://www.gutenberg.org/cache/epub/2264/pg2264.txt').text\n",
    "\n",
    "print(type(macbeth))\n",
    "print(len(macbeth))\n",
    "print(macbeth[:500])"
   ]
  },
  {
   "cell_type": "markdown",
   "metadata": {},
   "source": [
    "### Your Task\n",
    "\n",
    "Your task is to create a bar graph of the 25 most common words in the Shakespeare's Macbeth.  \n",
    "\n",
    "\n",
    "A common python programming pattern to counting objects, produce histograms, or update statistics is to make calls to a dictionary as you iterate through a list. For example, given a list of words, you can create a dictionary to store counts and then iterate through the list of words, checking how many times each word has appeared using your dictionary, and updating the dictionary count now that you've seen that word again. The `dictionary.get()` method is very useful in doing this. Read the docstring for the dictionary.get() method and use it along with the pseudocode above to create a bar graph of the 25 most common words from the transcript of Macbeth which has been loaded into a variable 'Macbeth'. Be sure to include a title and appropriate labels for your graph."
   ]
  },
  {
   "cell_type": "code",
   "execution_count": 3,
   "metadata": {},
   "outputs": [
    {
     "data": {
      "image/png": "[encoded data removed]",
      "text/plain": [
       "<Figure size 864x576 with 1 Axes>"
      ]
     },
     "metadata": {},
     "output_type": "display_data"
    }
   ],
   "source": [
    "# Your code here\n",
    "# Import matplotlib\n",
    "import matplotlib.pyplot as plt\n",
    "\n",
    "# Set plot space as inline for inline plots and qt for external plots\n",
    "%matplotlib inline\n",
    "\n",
    "# Pseudo-code Outline\n",
    "# Split the transcript into words\n",
    "macbeth_cleaned = macbeth.replace('\\ufeff', '')\n",
    "macbeth_cleaned = macbeth_cleaned.replace('*',' ')\n",
    "macbeth_cleaned = macbeth_cleaned.lower()\n",
    "words = macbeth_cleaned.split()\n",
    "#print(words)\n",
    "# Create a dictionary\n",
    "macbeth_words ={}\n",
    "    \n",
    "# Iterate through the text of Macbeth\n",
    "for word in words:\n",
    "    if word in macbeth_words:\n",
    "        macbeth_words[word]+=1\n",
    "        #print(word)\n",
    "    else:\n",
    "        #print('No word')\n",
    "        macbeth_words[word]=1\n",
    "#print(macbeth_words)\n",
    "\n",
    "x=[]\n",
    "y=[]\n",
    "\n",
    "x = sorted(macbeth_words, key=macbeth_words.get,reverse=True)[:25]\n",
    "i=0\n",
    "for key in x:\n",
    "    y.append(macbeth_words[key])\n",
    "    i+=1\n",
    "\n",
    "\n",
    "# Create Bar Graph\n",
    "plt.figure(figsize=[12,8])\n",
    "plt.bar(x,y,label=\"Macbeth\")\n",
    "plt.legend()\n",
    "\n",
    "# Include descriptive titles and labels\n",
    "plt.xlabel('Word')\n",
    "plt.ylabel('Word Frequency')\n",
    "plt.title('Most Common Words in Macbeth')\n",
    "plt.show()"
   ]
  },
  {
   "cell_type": "markdown",
   "metadata": {},
   "source": [
    "### Level Up (Optional)\n",
    "This project should take you about an hour and a half to complete. If you're done much more quickly than that and are not behind in the course, feel free to deepen your knowledge by completing any or all of the following tasks until you run out of time:\n",
    "* Create a list of top characters by mentions of their names \n",
    "* Split the text by which character is talking\n",
    "* Create sub graphs of the most common words by character\n",
    "* Reduce the string to the text of the play itself. (Remove any initial notes, forward, introduction, appendix, etc.)\n",
    "* Come up with some other fun analyses of the text!"
   ]
  },
  {
   "cell_type": "code",
   "execution_count": 9,
   "metadata": {},
   "outputs": [
    {
     "name": "stdout",
     "output_type": "stream",
     "text": [
      "['plays.', 'index.', 'header.', 'readers.', 'this.', 'below.', 'donations.', '2264.txt', '2264.zip', 'included.', 'edition.', 'editing.', 'announcement.', 'month.', 'so.', '[xxxxx10x.xxx]', 'month.', 'less.', 'work.', 'etc.', 'readers.', 'year.', '2001.', 'users.', 'person.', 'law.', 'university).', 'p.', 'o.', 'fails.', '.', '.try', 's.', '<hart@pobox.com>', 'hart@pobox.com', 'hart@prairienet.org', 'archive.org', 'archive.org,', 'prairienet.org,', 'on.', '.', '.', '.', 'email.', 'http://promo.net/pg.', 'gutenberg.', 'here.', 'hart@pobox.com,', 'sites.', 'http://promo.net/pg).', 'better.', 'sunsite.unc.edu', 'files.', '.', '.set', 'gutindex.??', 'e.g.,', 'gutindex.99]', 'gutindex.all', 'lawyers.', 'fault.', 'you.', 'to.', 'statement.', 'from.', 'request.', 's.', '\"project\").', 'royalties.', 'trademark.', 'works.', '\"defects\".', 'equipment.', 'damages.', 'from.', 'copy.', 'electronically.', '\"as-is\".', 'purpose.', 'rights.', 'defect.', 'it.', 'statement.', 'form).', 'statement.', 'taxes.', 'due.', 'return.', 'of.', 'university\".', 'ver.04.29.93', 'barnardo.', 'fran.', 'bar.', '\"cliche\".', '.', '.this', 'cliche.', '.', '.and', 'odd.', '.', '.such', 'above.', '.', '.and', 'manner.', '.', '.', '.', '\"v\"\\'s.', '.', '.possibly', 'etc.', 'to.', 'shakespeare.', 'purpose.', '.', '.', '.in', 'detail.', '.', '.and', 'spellings.', 'errors.', '.', '.', '.', 'so.', '.', '.with', 'caveat.', '.', '.we', 'macbeth.', 's.', \"isn't.\", 'text.', 'ae.', 'text.', 'them.', 'added.', 'shakespeare.', 'folio.', 'editions.', 'run.', 'copies.', 'is.', 'pages.', 'errors.', 'possible.', 'haradda@aol.com', 'davidr@inconnect.com.', 'this.', 'primus.', 'prima.', 'lightning.', 'witches.', '1.', '2.', '3.', '1.', '2.', '3.', '1.', 'all.', 'ayre.', 'exeunt.', 'secunda.', 'within.', 'captaine.', 'king.', 'mal.', 'cap.', 'king.', 'cap.', 'king.', 'cap.', 'king.', 'surgeons.', 'angus.', 'mal.', 'lenox.', 'rosse.', 'king.', 'rosse.', 'cold.', 'king.', 'rosse.', 'king.', 'rosse.', 'king.', 'wonne.', 'exeunt.', 'tertia.', 'thunder.', 'witches.', '1.', '2.', '3.', '1.', 'i.', 'cryes.', '2.', '1.', '3.', '1.', 'card.', 'tempest-tost.', '2.', '1.', 'come.', 'within.', '3.', 'all.', 'nine.', 'vp.', 'banquo.', 'macb.', 'banquo.', 'mac.', '1.', '2.', '3.', 'banq.', 'not.', '1.', '2.', '3.', '1.', '2.', '3.', '1.', 'macb.', 'cawdor.', 'you.', 'vanish.', 'banq.', 'macb.', 'winde.', 'banq.', 'macb.', 'banq.', 'macb.', 'banq.', 'angus.', 'rosse.', 'ang.', 'rosse.', 'banq.', 'macb.', 'ang.', 'loose.', 'macb.', 'behinde.', 'paines.', 'banq.', 'cawdor.', 'consequence.', 'macb.', 'theame.', 'good.', 'cawdor.', 'banq.', 'macb.', 'banq.', 'macb.', 'banq.', 'macb.', 'forgotten.', 'them.', 'banq.', 'macb.', 'friends.', 'exeunt.', 'quarta.', 'flourish.', 'attendants.', 'king.', 'mal.', 'back.', 'it.', 'king.', 'face.', 'trust.', 'angus.', 'me.', 'thee.', 'macb.', 'selfe.', 'king.', 'growing.', 'banq.', 'king.', 'sorrow.', 'deseruers.', 'macb.', 'king.', 'macb.', 'lyes.', 'see.', 'enter.', 'king.', 'me.', 'kinsman.', 'flourish.', 'exeunt.', 'quinta.', 'letter.', 'lady.', 'knowledge.', \"vanish'd.\", 'be.', 'thee.', 'farewell.', 'way.', 'it.', 'winne.', 'vndone.', 'withall.', 'messenger.', 'mess.', 'lady.', 'it.', 'mess.', 'lady.', 'messenger.', 'battlements.', 'hit.', 'mischiefe.', 'hold.', 'macbeth.', 'macb.', 'lady.', 'macb.', 'lady.', 'see.', 'time.', \"vnder't.\", 'macb.', 'lady.', 'me.', 'exeunt.', 'sexta.', 'torches.', 'attendants.', 'king.', 'banq.', 'delicate.', 'lady.', 'king.', 'loue.', 'lady.', 'king.', 'la.', 'king.', 'him.', 'hostesse.', 'exeunt.', 'septima.', 'hoboyes.', 'torches.', 'stage.', 'macb.', 'all.', 'come.', 'lips.', 'selfe.', 'winde.', 'other.', 'lady.', 'la.', 'mac.', 'la.', 'mac.', 'la.', 'loue.', 'macb.', 'la.', 'man.', 'you.', 'macb.', 'lady.', 'macb.', 'males.', 'lady.', 'macb.', 'feat.', 'know.', 'exeunt.', 'secundus.', 'prima.', 'him.', 'banq.', 'fleance.', 'banq.', 'fleance.', 'banq.', 'too.', 'repose.', 'torch.', 'macb.', 'banq.', 'bed.', 'offices.', 'mac.', 'banq.', 'well.', 'macb.', 'banq.', 'macb.', 'banq.', 'macb.', 'banq.', 'you.', 'banquo.', 'macb.', 'bell.', 'bed.', 'enter.', 'still.', 'draw.', 'vse.', 'before.', 'eyes.', 'ghost.', 'it.', 'giues.', 'rings.', 'me.', 'hell.', 'enter.', 'secunda.', 'lady.', 'la.', 'fire.', 'good-night.', 'snores.', 'dye.', 'macbeth.', 'macb.', 'lady.', \"'em.\", \"don't.\", 'macb.', 'lady.', 'cry.', 'macb.', 'lady.', 'macb.', 'lady.', 'macb.', 'lady.', 'mac.', 'lady.', 'macb.', 'lady.', 'macb.', 'lady.', 'mac.', 'lady.', 'macb.', 'lady.', 'macb.', 'lady.', 'hand.', 'macb.', 'lady.', 'deuill.', 'guilt.', 'enter.', 'within.', 'macb.', 'eyes.', 'red.', 'lady.', 'lady.', 'white.', 'knocke.', 'deed.', 'vnattended.', 'knocke.', 'knocking.', 'macb.', 'knocke.', 'selfe.', \"could'st.\", 'exeunt.', 'tertia.', 'porter.', 'within.', 'porter.', 'key.', 'knock.', 'knock.', \"for't.\", 'knock.', 'knock.', 'equiuocator.', 'knock.', 'knock.', 'goose.', 'knock.', 'knock.', 'hell.', 'bonfire.', 'knock.', 'porter.', 'lenox.', 'macd.', 'port.', 'macd.', 'port.', 'vrine.', 'performance.', 'macd.', 'port.', 'him.', 'macbeth.', 'macd.', 'lenox.', 'macb.', 'macd.', 'macb.', 'macd.', 'macb.', 'macd.', 'macb.', 'macd.', 'seruice.', 'macduffe.', 'lenox.', 'macb.', 'lenox.', 'time.', 'night.', 'macb.', 'lenox.', 'it.', 'macduff.', 'macd.', 'macb.', 'lenox.', 'macd.', 'macb.', 'lenox.', 'macd.', 'gorgon.', 'exeunt.', 'lenox.', 'horror.', 'bell.', 'rings.', 'lady.', 'lady.', 'macd.', 'fell.', 'banquo.', 'lady.', 'ban.', 'where.', 'so.', 'rosse.', 'macb.', 'of.', 'donalbaine.', 'donal.', 'macb.', 'macd.', 'mal.', 'lenox.', 'macb.', 'macd.', 'macb.', 'reason.', 'lady.', 'macd.', 'mal.', 'donal.', 'mal.', 'banq.', 'further.', 'macd.', 'all.', 'macb.', 'all.', 'contented.', 'exeunt.', 'malc.', 'easie.', 'don.', 'malc.', 'ayme.', 'left.', 'exeunt.', 'quarta.', 'man.', 'man.', 'rosse.', 'man.', 'rosse.', 'man.', 'rosse.', \"vpon't.\", 'macduffe.', 'macduffe.', 'macd.', 'ross.', 'macd.', 'ross.', 'macd.', 'rosse.', 'macd.', 'rosse.', 'macd.', 'rosse.', 'macd.', 'rosse.', 'macd.', 'rosse.', 'm.', 'foes.', 'exeunt.', 'tertius.', 'prima.', 'banquo.', 'banq.', 'kings.', 'hope.', 'more.', 'sounded.', 'attendants.', 'macb.', 'la.', 'macb.', 'banq.', 'macb.', 'ban.', 'macb.', 'morrow.', 'ban.', 'supper.', 'macb.', 'ban.', 'macb.', 'inuention.', 'ioyntly.', 'night.', 'ban.', 'macb.', 'backs.', 'farwell.', 'banquo.', 'you.', 'exeunt.', 'lords.', 'seruant.', 'macb.', 'vs.', 'seruant.', \"fear'd.\", 'safetie.', 'caesar.', 'him.', 'kings.', 'kings.', 'vtterance.', 'murtherers.', 'call.', 'seruant.', 'murth.', 'macb.', 'selfe.', '1.murth.', 'macb.', 'meeting.', '1.murth.', 'macb.', 'men.', '2.murth.', '1.murth.', 'macb.', 'murth.', 'macb.', '2.murth.', '1.murth.', 'macb.', 'you.', 'murth.', 'macb.', 'night.', 'exeunt.', 'secunda.', 'seruant.', 'lady.', 'seruant.', 'lady.', 'seruant.', 'will.', 'enter.', 'lady.', 'spent.', 'ioy.', 'macbeth.', 'macb.', 'tooth.', 'extasie.', 'lady.', 'macb.', 'lady.', 'macb.', 'lady.', 'macb.', 'lady.', 'macb.', 'pale.', 'rowse.', 'me.', 'exeunt.', 'tertia.', 'murtherers.', '1.', '3.', '2.', '1.', 'day.', '3.', 'within.', '2.', '1.', '3.', 'walke.', 'torch.', '2.', '3.', '1.', 'ban.', '1.', 'ban.', 'reuenge.', '3.', '1.', '3.', '2.', '1.', 'done.', 'exeunt.', 'quarta.', \"prepar'd.\", 'attendants.', 'macb.', 'lords.', 'macb.', 'la.', 'welcome.', 'murtherer.', 'macb.', 'round.', 'mur.', 'macb.', 'within.', 'mur.', 'mac.', 'mur.', 'macb.', 'feares.', 'mur.', 'macb.', 'present.', 'againe.', 'murderer.', 'lady.', 'it.', 'place.', 'macb.', 'lenox.', 'macb.', 'rosse.', 'promise.', 'macb.', 'lenox.', 'macb.', 'lenox.', 'lord.', 'macb.', 'lords.', 'macb.', 'rosse.', 'lady.', 'youth.', 'well.', 'not.', 'macb.', 'la.', 'duncan.', 'macb.', 'too.', 'la.', 'macb.', 'la.', 'macb.', 'eare.', 'stooles.', 'la.', 'macb.', 'me.', 'ghost.', 'lords.', 'mac.', 'la.', 'macb.', 'tremble.', 'girle.', 'hence.', 'la.', 'macb.', 'rosse.', 'la.', 'goodnight.', 'len.', 'la.', 'all.', 'lords.', 'macb.', 'blood.', 'la.', 'macb.', 'la.', 'macb.', 'feed.', 'sisters.', 'way.', 'la.', 'macb.', 'indeed.', 'exeunt.', 'quinta.', 'thunder.', 'hecat.', '1.', 'hec.', 'you.', 'destinie.', 'end.', 'noone.', 'confusion.', 'enemie.', 'song.', 'me.', 'within.', '&c.', 'againe.', 'exeunt.', 'sexta.', 'lord.', 'lenox.', 'borne.', 'late.', \"deny't.\", 'fleans.', 'disgrace.', 'lord.', 'respect.', 'now.', 'len.', 'lord.', 'lenox.', 'prouide.', 'lord.', 'him.', 'exeunt.', 'quartus.', 'prima.', 'thunder.', 'witches.', 'all.', 'all.', 'slab.', 'all.', 'good.', 'witches.', 'hec.', 'in.', 'song.', '&c.', 'knockes.', 'macbeth.', 'macb.', 'all.', 'macb.', 'macb.', 'all.', 'show.', 'thunder.', '1.', 'head.', 'macb.', 'appar.', 'me.', 'enough.', 'descends.', 'macb.', 'aright.', 'first.', 'thunder.', 'childe.', 'appar.', 'macb.', 'appar.', 'macbeth.', 'descends.', 'mac.', 'thunder.', 'hand.', 'all.', 'appar.', 'him.', 'descend.', 'macb.', 'custome.', 'all.', 'macb.', 'satisfied.', 'know.', 'all.', 'depart.', 'hand.', 'macb.', 'eye-bals.', 'former.', 'carry.', 'his.', 'so.', 'delights.', 'pay.', 'musicke.', 'vanish.', 'macb.', 'kalender.', 'there.', 'lenox.', 'lenox.', 'macb.', 'lenox.', 'macb.', 'lenox.', 'macb.', 'them.', 'horse.', 'len.', 'macb.', 'len.', 'macb.', 'it.', 'hand.', 'surprize.', 'line.', 'sights.', 'are.', 'exeunt.', 'secunda.', 'rosse.', 'wife.', 'rosse.', 'wife.', 'rosse.', 'wife.', 'touch.', 'rosse.', 'selfe.', 'season.', 'moue.', 'before.', 'wife.', 'rosse.', 'discomfort.', 'once.', 'rosse.', 'wife.', 'son.', 'wife.', 'son.', 'wife.', 'son.', 'wife.', 'son.', 'wife.', 'son.', 'wife.', 'son.', 'wife.', 'son.', 'wife.', 'son.', 'wife.', 'son.', 'wife.', 'son.', 'wife.', 'son.', 'wife.', 'son.', 'wife.', 'messenger.', 'mes.', 'neerely.', 'thus.', 'person.', 'longer.', 'wife.', 'harme.', 'folly.', 'murtherers.', 'mur.', 'wife.', 'mur.', 'son.', 'mur.', 'son.', 'you.', 'murther.', 'tertia.', 'macduffe.', 'mal.', 'macd.', 'mal.', 'wil.', 'perchance.', 'yet.', 'macd.', 'malc.', 'is.', 'charge.', 'fell.', 'macd.', 'malc.', 'doubts.', 'leaue-taking.', 'macd.', \"affear'd.\", 'mal.', 'wounds.', 'thousands.', 'macd.', 'mal.', 'macd.', 'mal.', 'name.', 'will.', 'macd.', 'kings.', 'cold.', 'mal.', 'macd.', 'owne.', 'mal.', 'none.', 'wayes.', 'macd.', 'mal.', 'mac.', 'liue.', \"liu'd.\", 'scotland.', 'mal.', 'honor.', 'detraction.', 'nature.', 'owne.', 'life.', 'selfe.', 'quarrell.', 'macd.', 'reconcile.', 'doctor.', 'mal.', 'anon.', 'doct.', 'art.', 'amend.', 'enter.', 'mal.', 'macd.', 'mal.', 'euill.', 'benediction.', 'grace.', 'rosse.', 'macd.', 'malc.', 'macd.', 'malc.', 'now.', 'rosse.', 'macd.', 'rosse.', 'selfe.', 'macd.', 'malc.', 'rosse.', 'macd.', 'rosse.', 'macd.', 'rosse.', 'macd.', 'rosse.', 'macd.', 'rosse.', 'a-foot.', 'malc.', 'rosse.', 'like.', 'macd.', 'rosse.', 'macd.', 'rosse.', 'macd.', 'rosse.', 'malc.', 'macd.', 'ro.', 'macd.', 'rosse.', 'malc.', 'comforted.', 'macd.', 'children.', 'malc.', 'macd.', 'mal.', 'macd.', 'tongue.', 'mal.', 'leaue.', 'day.', 'exeunt.', 'quintus.', 'prima.', 'gentlewoman.', 'doct.', 'report.', 'gent.', 'doct.', 'watching.', 'gent.', 'doct.', 'gent.', 'speech.', 'taper.', 'doct.', 'gent.', 'doct.', 'gent.', 'doct.', 'gent.', 'lad.', 'doct.', 'la.', 'say.', 'murky.', 'doct.', 'lad.', 'doct.', 'gent.', 'la.', 'hand.', 'doct.', 'gent.', 'doct.', 'gent.', 'doct.', 'lad.', 'doct.', 'lady.', 'vndone.', 'bed.', 'lady.', 'doct.', 'gent.', 'doct.', 'all.', 'sight.', 'gent.', 'doctor.', 'exeunt.', 'secunda.', 'colours.', 'soldiers.', 'ment.', 'macduff.', 'ang.', 'cath.', 'len.', 'ment.', 'cath.', 'ang.', 'ment.', 'cath.', 'lenox.', 'birnan.', 'exeunt.', 'marching.', 'tertia.', 'attendants.', 'macb.', 'feare.', 'thee.', 'feare.', 'seruant.', 'ser.', 'macb.', 'ser.', 'macb.', 'boy.', 'feare.', 'ser.', 'macb.', 'hence.', 'now.', 'not.', 'seyton.', 'sey.', 'macb.', 'sey.', 'macb.', 'hackt.', 'seyt.', 'macb.', 'feare.', 'doct.', 'macb.', 'doct.', 'macb.', 'it.', 'dispatch.', 'againe.', 'doct.', 'macb.', 'doct.', 'heere.', 'exeunt.', 'quarta.', 'colours.', 'marching.', 'malc.', 'ment.', 'seyw.', 'ment.', 'malc.', 'sold.', 'syw.', 'malc.', 'macd.', 'sey.', 'warre.', 'exeunt.', 'quinta.', 'colours.', 'macb.', 'home.', 'women.', 'sey.', 'macb.', \"in't.\", 'me.', 'sey.', 'macb.', 'death.', 'more.', 'nothing.', 'messenger.', 'mes.', 'macb.', 'mes.', 'macb.', 'mes.', 'comming.', 'macb.', 'much.', 'truth.', 'dunsinane.', 'here.', 'vndon.', 'backe.', 'exeunt.', 'sexta.', 'colours.', 'boughes.', 'mal.', 'battell.', 'sey.', 'macd.', 'death.', 'exeunt.', 'continued.', 'septima.', 'macbeth.', 'macb.', 'course.', 'none.', 'seyward.', 'y.sey.', 'macb.', 'y.sey.', 'macb.', 'y.sey.', 'macb.', 'y.sey.', \"speak'st.\", 'slaine.', 'macb.', 'borne.', 'enter.', 'alarums.', 'macduffe.', 'macd.', 'vndeeded.', 'bruited.', 'not.', 'exit.', 'alarums.', 'seyward.', 'sey.', 'malc.', 'sey.', 'castle.', 'exeunt.', 'macbeth.', 'macb.', 'them.', 'macduffe.', 'macd.', 'macb.', 'macd.', 'out.', 'macb.', 'macd.', 'macb.', 'hope.', 'macd.', 'time.', 'macb.', 'curse.', 'last.', 'enough.', 'exeunt.', 'fighting.', 'alarums.', 'slaine.', 'flourish.', 'soldiers.', 'mal.', 'sey.', 'mal.', 'rosse.', 'sey.', 'rosse.', 'sey.', 'rosse.', 'sey.', 'mal.', 'sey.', 'him.', 'comfort.', 'head.', 'macd.', 'art.', 'mine.', 'all.', 'scotland.', 'flourish.', 'mal.', 'you.', 'life.', 'scone.', 'flourish.', 'omnes.', 'finis.', 'macbeth.']\n"
     ]
    }
   ],
   "source": [
    "characters=[]\n",
    "for word in words:\n",
    "    if '.' in word:\n",
    "        characters.append(word)\n",
    "        \n",
    "print(characters)\n",
    "    "
   ]
  },
  {
   "cell_type": "markdown",
   "metadata": {},
   "source": [
    "## Summary\n",
    "Congratulations! You've got some extra practice combining various data types into useful programming patterns and done an intitial analysis of a classic text!"
   ]
  }
 ],
 "metadata": {
  "kernelspec": {
   "display_name": "Python 3",
   "language": "python",
   "name": "python3"
  },
  "language_info": {
   "codemirror_mode": {
    "name": "ipython",
    "version": 3
   },
   "file_extension": ".py",
   "mimetype": "text/x-python",
   "name": "python",
   "nbconvert_exporter": "python",
   "pygments_lexer": "ipython3",
   "version": "3.6.5"
  }
 },
 "nbformat": 4,
 "nbformat_minor": 2
}
